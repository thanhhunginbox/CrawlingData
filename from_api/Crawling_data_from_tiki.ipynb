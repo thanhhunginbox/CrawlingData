{
 "cells": [
  {
   "cell_type": "code",
   "execution_count": 16,
   "metadata": {},
   "outputs": [],
   "source": [
    "import requests\n",
    "import json\n",
    "import pandas as pd"
   ]
  },
  {
   "cell_type": "code",
   "execution_count": 5,
   "metadata": {},
   "outputs": [],
   "source": [
    "url = f'https://tiki.vn/api/personalish/v1/blocks/categories?block_code=featured_categories_tikingon&trackity_id=468c0b05-42e9-1b62-b03c-0e531c8de161'\n",
    "headers = {'User-Agent': 'Mozilla/5.0 (Windows NT 10.0; WOW64) AppleWebKit/537.36 (KHTML, like Gecko) Chrome/104.0.0.0 Safari/537.36'}"
   ]
  },
  {
   "cell_type": "code",
   "execution_count": 6,
   "metadata": {},
   "outputs": [
    {
     "data": {
      "text/plain": [
       "200"
      ]
     },
     "execution_count": 6,
     "metadata": {},
     "output_type": "execute_result"
    }
   ],
   "source": [
    "reponse = requests.get(url, headers=headers)\n",
    "reponse.status_code"
   ]
  },
  {
   "cell_type": "code",
   "execution_count": 9,
   "metadata": {},
   "outputs": [],
   "source": [
    "data = json.loads(reponse.text)"
   ]
  },
  {
   "cell_type": "code",
   "execution_count": 28,
   "metadata": {},
   "outputs": [],
   "source": [
    "items = data['items']"
   ]
  },
  {
   "cell_type": "code",
   "execution_count": 46,
   "metadata": {},
   "outputs": [],
   "source": [
    "ls = []\n",
    "for i in items:\n",
    "    ls.append(i['children'][0])\n",
    "    ls.append(i['children'][1])\n"
   ]
  },
  {
   "cell_type": "code",
   "execution_count": 52,
   "metadata": {},
   "outputs": [
    {
     "data": {
      "text/html": [
       "<div>\n",
       "<style scoped>\n",
       "    .dataframe tbody tr th:only-of-type {\n",
       "        vertical-align: middle;\n",
       "    }\n",
       "\n",
       "    .dataframe tbody tr th {\n",
       "        vertical-align: top;\n",
       "    }\n",
       "\n",
       "    .dataframe thead th {\n",
       "        text-align: right;\n",
       "    }\n",
       "</style>\n",
       "<table border=\"1\" class=\"dataframe\">\n",
       "  <thead>\n",
       "    <tr style=\"text-align: right;\">\n",
       "      <th></th>\n",
       "      <th>id</th>\n",
       "      <th>parent_id</th>\n",
       "      <th>name</th>\n",
       "      <th>url</th>\n",
       "      <th>url_key</th>\n",
       "      <th>type</th>\n",
       "      <th>thumbnail_url</th>\n",
       "      <th>level</th>\n",
       "      <th>status</th>\n",
       "      <th>product_count</th>\n",
       "      <th>is_leaf</th>\n",
       "      <th>meta_title</th>\n",
       "      <th>meta_description</th>\n",
       "      <th>meta_keywords</th>\n",
       "      <th>children</th>\n",
       "    </tr>\n",
       "  </thead>\n",
       "  <tbody>\n",
       "    <tr>\n",
       "      <th>0</th>\n",
       "      <td>44826</td>\n",
       "      <td>0</td>\n",
       "      <td>Trái Cây Nội Địa</td>\n",
       "      <td></td>\n",
       "      <td>trai-cay-noi-dia</td>\n",
       "      <td>fresh</td>\n",
       "      <td>https://salt.tikicdn.com/cache/280x280/ts/prod...</td>\n",
       "      <td>0</td>\n",
       "      <td></td>\n",
       "      <td>635</td>\n",
       "      <td>True</td>\n",
       "      <td></td>\n",
       "      <td></td>\n",
       "      <td></td>\n",
       "      <td>[]</td>\n",
       "    </tr>\n",
       "    <tr>\n",
       "      <th>1</th>\n",
       "      <td>44828</td>\n",
       "      <td>0</td>\n",
       "      <td>Trái Cây Nhập Khẩu</td>\n",
       "      <td></td>\n",
       "      <td>trai-cay-nhap-khau</td>\n",
       "      <td>fresh</td>\n",
       "      <td>https://salt.tikicdn.com/cache/280x280/ts/prod...</td>\n",
       "      <td>0</td>\n",
       "      <td></td>\n",
       "      <td>786</td>\n",
       "      <td>True</td>\n",
       "      <td></td>\n",
       "      <td></td>\n",
       "      <td></td>\n",
       "      <td>[]</td>\n",
       "    </tr>\n",
       "    <tr>\n",
       "      <th>2</th>\n",
       "      <td>54278</td>\n",
       "      <td>0</td>\n",
       "      <td>Thịt heo, lợn</td>\n",
       "      <td></td>\n",
       "      <td>thit-heo-lon</td>\n",
       "      <td>fresh</td>\n",
       "      <td>https://salt.tikicdn.com/cache/280x280/ts/prod...</td>\n",
       "      <td>0</td>\n",
       "      <td></td>\n",
       "      <td>807</td>\n",
       "      <td>True</td>\n",
       "      <td></td>\n",
       "      <td></td>\n",
       "      <td></td>\n",
       "      <td>[]</td>\n",
       "    </tr>\n",
       "    <tr>\n",
       "      <th>3</th>\n",
       "      <td>54280</td>\n",
       "      <td>0</td>\n",
       "      <td>Thịt bò, bê</td>\n",
       "      <td></td>\n",
       "      <td>thit-bo-be</td>\n",
       "      <td>fresh</td>\n",
       "      <td>https://salt.tikicdn.com/cache/280x280/ts/prod...</td>\n",
       "      <td>0</td>\n",
       "      <td></td>\n",
       "      <td>965</td>\n",
       "      <td>True</td>\n",
       "      <td></td>\n",
       "      <td></td>\n",
       "      <td></td>\n",
       "      <td>[]</td>\n",
       "    </tr>\n",
       "    <tr>\n",
       "      <th>4</th>\n",
       "      <td>54292</td>\n",
       "      <td>0</td>\n",
       "      <td>Tôm, cua, ghẹ, ốc</td>\n",
       "      <td></td>\n",
       "      <td>tom-cua-ghe-oc</td>\n",
       "      <td>fresh</td>\n",
       "      <td>https://salt.tikicdn.com/cache/280x280/ts/prod...</td>\n",
       "      <td>0</td>\n",
       "      <td></td>\n",
       "      <td>324</td>\n",
       "      <td>True</td>\n",
       "      <td></td>\n",
       "      <td></td>\n",
       "      <td></td>\n",
       "      <td>[]</td>\n",
       "    </tr>\n",
       "  </tbody>\n",
       "</table>\n",
       "</div>"
      ],
      "text/plain": [
       "      id  parent_id                name url             url_key   type  \\\n",
       "0  44826          0    Trái Cây Nội Địa        trai-cay-noi-dia  fresh   \n",
       "1  44828          0  Trái Cây Nhập Khẩu      trai-cay-nhap-khau  fresh   \n",
       "2  54278          0       Thịt heo, lợn            thit-heo-lon  fresh   \n",
       "3  54280          0         Thịt bò, bê              thit-bo-be  fresh   \n",
       "4  54292          0   Tôm, cua, ghẹ, ốc          tom-cua-ghe-oc  fresh   \n",
       "\n",
       "                                       thumbnail_url  level status  \\\n",
       "0  https://salt.tikicdn.com/cache/280x280/ts/prod...      0          \n",
       "1  https://salt.tikicdn.com/cache/280x280/ts/prod...      0          \n",
       "2  https://salt.tikicdn.com/cache/280x280/ts/prod...      0          \n",
       "3  https://salt.tikicdn.com/cache/280x280/ts/prod...      0          \n",
       "4  https://salt.tikicdn.com/cache/280x280/ts/prod...      0          \n",
       "\n",
       "   product_count  is_leaf meta_title meta_description meta_keywords children  \n",
       "0            635     True                                                 []  \n",
       "1            786     True                                                 []  \n",
       "2            807     True                                                 []  \n",
       "3            965     True                                                 []  \n",
       "4            324     True                                                 []  "
      ]
     },
     "execution_count": 52,
     "metadata": {},
     "output_type": "execute_result"
    }
   ],
   "source": [
    "df = pd.DataFrame(ls)\n",
    "df.head()"
   ]
  },
  {
   "cell_type": "code",
   "execution_count": 54,
   "metadata": {},
   "outputs": [],
   "source": [
    "df.to_csv('tiki.csv', index=False)"
   ]
  },
  {
   "cell_type": "code",
   "execution_count": null,
   "metadata": {},
   "outputs": [],
   "source": []
  }
 ],
 "metadata": {
  "kernelspec": {
   "display_name": "Python 3.10.5 64-bit",
   "language": "python",
   "name": "python3"
  },
  "language_info": {
   "codemirror_mode": {
    "name": "ipython",
    "version": 3
   },
   "file_extension": ".py",
   "mimetype": "text/x-python",
   "name": "python",
   "nbconvert_exporter": "python",
   "pygments_lexer": "ipython3",
   "version": "3.10.5"
  },
  "orig_nbformat": 4,
  "vscode": {
   "interpreter": {
    "hash": "3e43744e3b76db76f00dd0f0ed56f0dc3589e390f52dff4d27386062904acf7d"
   }
  }
 },
 "nbformat": 4,
 "nbformat_minor": 2
}
